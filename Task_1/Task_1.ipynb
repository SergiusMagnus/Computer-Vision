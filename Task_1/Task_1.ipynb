{
 "cells": [
  {
   "cell_type": "code",
   "execution_count": 1,
   "metadata": {},
   "outputs": [],
   "source": [
    "import os\n",
    "\n",
    "import cv2 as cv\n",
    "import numpy as np"
   ]
  },
  {
   "cell_type": "code",
   "execution_count": 2,
   "metadata": {},
   "outputs": [],
   "source": [
    "def count_green_red_yellow_pixels(img: cv.typing.MatLike) -> tuple[int, int , int]:\n",
    "    \"\"\"\n",
    "        Counts the number of green, red and yellow pixels in an image.\n",
    "\n",
    "        Args:\n",
    "            img - HSV image.\n",
    "        \n",
    "        Return:\n",
    "            A tuple of three integers. The first number is the number of green pixels.\n",
    "            The second number is the number of red pixels.\n",
    "            The third number is the number of yellow pixels.\n",
    "    \"\"\"\n",
    "    green_pixels = np.where((img[:, :, 0] >= 40) & (img[:, :, 0] < 90) & (img[:, :, 1] >= 125) & (img[:, :, 2] >= 125))\n",
    "    red_pixels = np.where((((img[:, :, 0] >= 0) & (img[:, :, 0] < 10)) | ((img[:, :, 0] >= 170) & (img[:, :, 0] <= 180)))\n",
    "                      & (img[:, :, 1] >= 125) & (img[:, :, 2] >= 125))\n",
    "    yellow_pixels = np.where((img[:, :, 0] >= 10) & (img[:, :, 0] < 40) & (img[:, :, 1] >= 125) & (img[:, :, 2] >= 125))\n",
    "    \n",
    "    return green_pixels[0].size, red_pixels[0].size, yellow_pixels[0].size"
   ]
  },
  {
   "cell_type": "code",
   "execution_count": 3,
   "metadata": {},
   "outputs": [],
   "source": [
    "def classify_traffic_lights_imgs(dir: str) -> tuple[set[str], set[str], set[str], set[str]]:\n",
    "    \"\"\"\n",
    "        Classifies images with traffic lights by the color they are lit.\n",
    "\n",
    "        Args:\n",
    "            dir - path to the directory with images.\n",
    "        \n",
    "        Return:\n",
    "            A tuple of sets with file names. The first set contains the names of images with green light.\n",
    "            The second set contains the names of images with red light.\n",
    "            The third set contains the names of images with yellow light.\n",
    "            The fourth set contains the names of images that could not be classified.\n",
    "    \"\"\"\n",
    "    green_signal_img_names = set()\n",
    "    red_signal_img_names = set()\n",
    "    yellow_signal_img_names = set()\n",
    "    not_classified_img_names = set()\n",
    "\n",
    "    for entry in os.scandir(dir):\n",
    "        img_bgr = cv.imread(entry.path)\n",
    "        img_hsv = cv.cvtColor(img_bgr, cv.COLOR_BGR2HSV)\n",
    "\n",
    "        green_pixels_amount, red_pixels_amount, yellow_pixels_amount = count_green_red_yellow_pixels(img_hsv)\n",
    "\n",
    "        trigger = True\n",
    "\n",
    "        if (green_pixels_amount >= 25):\n",
    "            green_signal_img_names.add(entry.name)\n",
    "            trigger = False\n",
    "\n",
    "        if (red_pixels_amount >= 25):\n",
    "            red_signal_img_names.add(entry.name)\n",
    "            trigger = False\n",
    "\n",
    "        if (yellow_pixels_amount >= 25):\n",
    "            yellow_signal_img_names.add(entry.name)\n",
    "            trigger = False\n",
    "\n",
    "        if (trigger):\n",
    "            not_classified_img_names.add(entry.name)\n",
    "    \n",
    "    return green_signal_img_names, red_signal_img_names, yellow_signal_img_names, not_classified_img_names"
   ]
  },
  {
   "cell_type": "code",
   "execution_count": 4,
   "metadata": {},
   "outputs": [],
   "source": [
    "green_signal_img_names, red_signal_img_names, yellow_signal_img_names, not_classified_img_names = classify_traffic_lights_imgs(\"data\")"
   ]
  },
  {
   "cell_type": "code",
   "execution_count": 5,
   "metadata": {},
   "outputs": [
    {
     "data": {
      "text/plain": [
       "{'100_03.jpg',\n",
       " '100_04.jpg',\n",
       " '100_05.jpg',\n",
       " '100_06.jpg',\n",
       " '100_09.jpg',\n",
       " '100_10.jpg',\n",
       " '100_11.jpg',\n",
       " '100_13.jpg',\n",
       " '100_14.jpg',\n",
       " '100_16.jpg',\n",
       " '100_17.jpg',\n",
       " '100_18.jpg',\n",
       " '100_19.jpg',\n",
       " '100_21.jpg',\n",
       " '100_22.jpg',\n",
       " '100_23.jpg',\n",
       " '200_01.jpg',\n",
       " '200_02.jpg',\n",
       " '200_04.jpg',\n",
       " '200_06.jpg',\n",
       " '200_07.jpg',\n",
       " '200_08.jpg',\n",
       " '200_10.jpg',\n",
       " '200_11.jpg',\n",
       " '200_12.jpg',\n",
       " '200_13.jpg',\n",
       " '200_14.jpg',\n",
       " '200_17.jpg',\n",
       " '200_18.jpg',\n",
       " '200_19.jpg',\n",
       " '200_22.jpg',\n",
       " '200_23.jpg',\n",
       " '200_25.jpg'}"
      ]
     },
     "execution_count": 5,
     "metadata": {},
     "output_type": "execute_result"
    }
   ],
   "source": [
    "green_signal_img_names"
   ]
  },
  {
   "cell_type": "code",
   "execution_count": 6,
   "metadata": {},
   "outputs": [
    {
     "data": {
      "text/plain": [
       "{'100_01.jpg',\n",
       " '100_07.jpg',\n",
       " '100_08.jpg',\n",
       " '100_12.jpg',\n",
       " '100_19.jpg',\n",
       " '100_20.jpg',\n",
       " '100_25.jpg',\n",
       " '200_03.jpg',\n",
       " '200_05.jpg',\n",
       " '200_09.jpg',\n",
       " '200_15.jpg',\n",
       " '200_16.jpg',\n",
       " '200_17.jpg',\n",
       " '200_21.jpg',\n",
       " '200_24.jpg'}"
      ]
     },
     "execution_count": 6,
     "metadata": {},
     "output_type": "execute_result"
    }
   ],
   "source": [
    "red_signal_img_names"
   ]
  },
  {
   "cell_type": "code",
   "execution_count": 7,
   "metadata": {},
   "outputs": [
    {
     "data": {
      "text/plain": [
       "{'100_02.jpg',\n",
       " '100_15.jpg',\n",
       " '100_24.jpg',\n",
       " '100_25.jpg',\n",
       " '200_03.jpg',\n",
       " '200_16.jpg',\n",
       " '200_17.jpg',\n",
       " '200_18.jpg',\n",
       " '200_20.jpg',\n",
       " '200_21.jpg',\n",
       " '200_24.jpg'}"
      ]
     },
     "execution_count": 7,
     "metadata": {},
     "output_type": "execute_result"
    }
   ],
   "source": [
    "yellow_signal_img_names"
   ]
  },
  {
   "cell_type": "code",
   "execution_count": 8,
   "metadata": {},
   "outputs": [
    {
     "data": {
      "text/plain": [
       "set()"
      ]
     },
     "execution_count": 8,
     "metadata": {},
     "output_type": "execute_result"
    }
   ],
   "source": [
    "not_classified_img_names"
   ]
  }
 ],
 "metadata": {
  "kernelspec": {
   "display_name": "venv",
   "language": "python",
   "name": "python3"
  },
  "language_info": {
   "codemirror_mode": {
    "name": "ipython",
    "version": 3
   },
   "file_extension": ".py",
   "mimetype": "text/x-python",
   "name": "python",
   "nbconvert_exporter": "python",
   "pygments_lexer": "ipython3",
   "version": "3.11.5"
  },
  "orig_nbformat": 4
 },
 "nbformat": 4,
 "nbformat_minor": 2
}
