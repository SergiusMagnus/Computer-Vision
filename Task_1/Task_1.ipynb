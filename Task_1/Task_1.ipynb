{
 "cells": [
  {
   "cell_type": "code",
   "execution_count": 15,
   "metadata": {},
   "outputs": [],
   "source": [
    "import os\n",
    "\n",
    "import cv2 as cv\n",
    "import numpy as np"
   ]
  },
  {
   "cell_type": "code",
   "execution_count": 16,
   "metadata": {},
   "outputs": [],
   "source": [
    "green_signal = set()\n",
    "red_signal = set()\n",
    "yellow_signal = set()\n",
    "not_classified = set()"
   ]
  },
  {
   "cell_type": "code",
   "execution_count": 17,
   "metadata": {},
   "outputs": [],
   "source": [
    "for entry in os.scandir(\"data\"):\n",
    "    img_bgr = cv.imread(entry.path)\n",
    "    img_hsv = cv.cvtColor(img_bgr, cv.COLOR_BGR2HSV)\n",
    "\n",
    "    green_pixels = np.where((img_hsv[:, :, 0] >= 40) & (img_hsv[:, :, 0] < 90) & (img_hsv[:, :, 1] >= 125) & (img_hsv[:, :, 2] >= 125))\n",
    "    red_pixels = np.where((((img_hsv[:, :, 0] >= 0) & (img_hsv[:, :, 0] < 10)) | ((img_hsv[:, :, 0] >= 170) & (img_hsv[:, :, 0] <= 180)))\n",
    "                      & (img_hsv[:, :, 1] >= 125) & (img_hsv[:, :, 2] >= 125))\n",
    "    yellow_pixels = np.where((img_hsv[:, :, 0] >= 10) & (img_hsv[:, :, 0] < 40) & (img_hsv[:, :, 1] >= 125) & (img_hsv[:, :, 2] >= 125))\n",
    "\n",
    "    trigger = True\n",
    "\n",
    "    if (green_pixels[0].size >= 25):\n",
    "        green_signal.add(entry.name)\n",
    "        trigger = False\n",
    "\n",
    "    if (red_pixels[0].size >= 25):\n",
    "        red_signal.add(entry.name)\n",
    "        trigger = False\n",
    "\n",
    "    if (yellow_pixels[0].size >= 25):\n",
    "        yellow_signal.add(entry.name)\n",
    "        trigger = False\n",
    "\n",
    "    if (trigger):\n",
    "        not_classified.add(entry.name)    "
   ]
  },
  {
   "cell_type": "code",
   "execution_count": 18,
   "metadata": {},
   "outputs": [
    {
     "data": {
      "text/plain": [
       "{'100_03.jpg',\n",
       " '100_04.jpg',\n",
       " '100_05.jpg',\n",
       " '100_06.jpg',\n",
       " '100_09.jpg',\n",
       " '100_10.jpg',\n",
       " '100_11.jpg',\n",
       " '100_13.jpg',\n",
       " '100_14.jpg',\n",
       " '100_16.jpg',\n",
       " '100_17.jpg',\n",
       " '100_18.jpg',\n",
       " '100_19.jpg',\n",
       " '100_21.jpg',\n",
       " '100_22.jpg',\n",
       " '100_23.jpg',\n",
       " '200_01.jpg',\n",
       " '200_02.jpg',\n",
       " '200_04.jpg',\n",
       " '200_06.jpg',\n",
       " '200_07.jpg',\n",
       " '200_08.jpg',\n",
       " '200_10.jpg',\n",
       " '200_11.jpg',\n",
       " '200_12.jpg',\n",
       " '200_13.jpg',\n",
       " '200_14.jpg',\n",
       " '200_17.jpg',\n",
       " '200_18.jpg',\n",
       " '200_19.jpg',\n",
       " '200_22.jpg',\n",
       " '200_23.jpg',\n",
       " '200_25.jpg'}"
      ]
     },
     "execution_count": 18,
     "metadata": {},
     "output_type": "execute_result"
    }
   ],
   "source": [
    "green_signal"
   ]
  },
  {
   "cell_type": "code",
   "execution_count": 19,
   "metadata": {},
   "outputs": [
    {
     "data": {
      "text/plain": [
       "{'100_01.jpg',\n",
       " '100_07.jpg',\n",
       " '100_08.jpg',\n",
       " '100_12.jpg',\n",
       " '100_19.jpg',\n",
       " '100_20.jpg',\n",
       " '100_25.jpg',\n",
       " '200_03.jpg',\n",
       " '200_05.jpg',\n",
       " '200_09.jpg',\n",
       " '200_15.jpg',\n",
       " '200_16.jpg',\n",
       " '200_17.jpg',\n",
       " '200_21.jpg',\n",
       " '200_24.jpg'}"
      ]
     },
     "execution_count": 19,
     "metadata": {},
     "output_type": "execute_result"
    }
   ],
   "source": [
    "red_signal"
   ]
  },
  {
   "cell_type": "code",
   "execution_count": 20,
   "metadata": {},
   "outputs": [
    {
     "data": {
      "text/plain": [
       "{'100_02.jpg',\n",
       " '100_15.jpg',\n",
       " '100_24.jpg',\n",
       " '100_25.jpg',\n",
       " '200_03.jpg',\n",
       " '200_16.jpg',\n",
       " '200_17.jpg',\n",
       " '200_18.jpg',\n",
       " '200_20.jpg',\n",
       " '200_21.jpg',\n",
       " '200_24.jpg'}"
      ]
     },
     "execution_count": 20,
     "metadata": {},
     "output_type": "execute_result"
    }
   ],
   "source": [
    "yellow_signal"
   ]
  },
  {
   "cell_type": "code",
   "execution_count": 21,
   "metadata": {},
   "outputs": [
    {
     "data": {
      "text/plain": [
       "set()"
      ]
     },
     "execution_count": 21,
     "metadata": {},
     "output_type": "execute_result"
    }
   ],
   "source": [
    "not_classified"
   ]
  }
 ],
 "metadata": {
  "kernelspec": {
   "display_name": "venv",
   "language": "python",
   "name": "python3"
  },
  "language_info": {
   "codemirror_mode": {
    "name": "ipython",
    "version": 3
   },
   "file_extension": ".py",
   "mimetype": "text/x-python",
   "name": "python",
   "nbconvert_exporter": "python",
   "pygments_lexer": "ipython3",
   "version": "3.11.5"
  },
  "orig_nbformat": 4
 },
 "nbformat": 4,
 "nbformat_minor": 2
}
